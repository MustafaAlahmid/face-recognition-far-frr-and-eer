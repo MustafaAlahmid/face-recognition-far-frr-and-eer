{
 "cells": [
  {
   "cell_type": "code",
   "execution_count": 1,
   "metadata": {},
   "outputs": [
    {
     "name": "stderr",
     "output_type": "stream",
     "text": [
      "Using TensorFlow backend.\n"
     ]
    }
   ],
   "source": [
    "from os import listdir\n",
    "from os.path import isdir\n",
    "from PIL import Image\n",
    "from numpy import savez_compressed\n",
    "from numpy import asarray\n",
    "from mtcnn.mtcnn import MTCNN\n",
    "from numpy import load\n",
    "from numpy import expand_dims\n",
    "from keras.models import load_model\n",
    "from random import choice\n",
    "from sklearn.preprocessing import LabelEncoder\n",
    "from sklearn.preprocessing import Normalizer\n",
    "from sklearn.svm import SVC\n",
    "import pickle\n",
    "import matplotlib.pyplot as plt\n",
    "import numpy as np\n",
    "import scipy.stats as stats\n",
    "from sklearn.metrics import accuracy_score\n",
    "from sklearn.svm import SVC\n",
    "from sklearn.model_selection import validation_curve\n",
    "from sklearn import metrics\n",
    "from sklearn.metrics import roc_curve\n",
    "from sklearn.metrics import auc "
   ]
  },
  {
   "cell_type": "code",
   "execution_count": 2,
   "metadata": {},
   "outputs": [],
   "source": [
    "def extract_face(filename, required_size=(160, 160)):\n",
    "    # load image from file\n",
    "    image = Image.open(filename)\n",
    "    # convert to RGB, if needed\n",
    "    image = image.convert('RGB')\n",
    "    # convert to array\n",
    "    pixels = asarray(image)\n",
    "    # create the detector, using default weights\n",
    "    detector = MTCNN()\n",
    "    # detect faces in the image\n",
    "    results = detector.detect_faces(pixels)\n",
    "    # extract the bounding box from the first face\n",
    "    x1, y1, width, height = results[0]['box']\n",
    "    # bug fix\n",
    "    x1, y1 = abs(x1), abs(y1)\n",
    "    x2, y2 = x1 + width, y1 + height\n",
    "    # extract the face\n",
    "    face = pixels[y1:y2, x1:x2]\n",
    "    # resize pixels to the model size\n",
    "    image = Image.fromarray(face)\n",
    "    image = image.resize(required_size)\n",
    "    face_array = asarray(image)\n",
    "    return face_array"
   ]
  },
  {
   "cell_type": "code",
   "execution_count": 3,
   "metadata": {},
   "outputs": [],
   "source": [
    "def load_faces(directory):\n",
    "    faces = list()\n",
    "    # enumerate files\n",
    "    for filename in listdir(directory):\n",
    "        # path\n",
    "        path = directory + filename\n",
    "        # get face\n",
    "        face = extract_face(path)\n",
    "        # store\n",
    "        faces.append(face)\n",
    "    return faces"
   ]
  },
  {
   "cell_type": "code",
   "execution_count": 4,
   "metadata": {},
   "outputs": [],
   "source": [
    "def load_dataset(directory):\n",
    "    X, y = list(), list()\n",
    "    # enumerate folders, on per class\n",
    "    for subdir in listdir(directory):\n",
    "        # path\n",
    "        path = directory + subdir + '/'\n",
    "        # skip any files that might be in the dir\n",
    "        if not isdir(path):\n",
    "            continue\n",
    "        # load all faces in the subdirectory\n",
    "        faces = load_faces(path)\n",
    "        # create labels\n",
    "        labels = [subdir for _ in range(len(faces))]\n",
    "        # summarize progress\n",
    "        print('>loaded %d examples for class: %s' % (len(faces), subdir))\n",
    "        # store\n",
    "        X.extend(faces)\n",
    "        y.extend(labels)\n",
    "    return asarray(X), asarray(y)"
   ]
  },
  {
   "cell_type": "code",
   "execution_count": 5,
   "metadata": {},
   "outputs": [
    {
     "name": "stdout",
     "output_type": "stream",
     "text": [
      ">loaded 15 examples for class: Adrian Broody\n",
      ">loaded 16 examples for class: Adriana Barazza\n",
      ">loaded 16 examples for class: Ali Latter\n",
      ">loaded 7 examples for class: Amena Khan\n",
      ">loaded 16 examples for class: Andrew Lincolen\n",
      ">loaded 16 examples for class: Angella Basset\n",
      ">loaded 10 examples for class: Anna_Hathaway\n",
      ">loaded 14 examples for class: Anthony Hopkins\n",
      ">loaded 18 examples for class: arnold_schwarzenegger\n",
      ">loaded 16 examples for class: Aron Judge\n",
      ">loaded 16 examples for class: Aron Paul\n",
      ">loaded 10 examples for class: Barabara Palvin\n",
      ">loaded 15 examples for class: Barbra Streisand\n",
      ">loaded 16 examples for class: Barry Pepper\n",
      ">loaded 16 examples for class: Bella Hadid\n",
      ">loaded 32 examples for class: bella thorne\n",
      ">loaded 14 examples for class: ben_afflek\n",
      ">loaded 14 examples for class: Beyonce Knowles\n",
      ">loaded 11 examples for class: Buffon\n",
      ">loaded 10 examples for class: De_Niro\n",
      ">loaded 11 examples for class: Donnie Yen\n",
      ">loaded 15 examples for class: dwayne_johnson\n",
      ">loaded 17 examples for class: elton_john\n",
      ">loaded 14 examples for class: Ennio Morricone\n",
      ">loaded 9 examples for class: Fan Bingbing\n",
      ">loaded 11 examples for class: Jackie chan\n",
      ">loaded 21 examples for class: jerry_seinfeld\n",
      ">loaded 9 examples for class: Jet Lee\n",
      ">loaded 10 examples for class: kate_beckinsale\n",
      ">loaded 11 examples for class: keanu_reeves\n",
      ">loaded 10 examples for class: lauren_cohan\n",
      ">loaded 19 examples for class: madonna\n",
      "(455, 160, 160, 3) (455,)\n",
      ">loaded 5 examples for class: Adrian Broody\n",
      ">loaded 5 examples for class: Adriana Barazza\n",
      ">loaded 5 examples for class: Ali Latter\n",
      ">loaded 5 examples for class: Amena Khan\n",
      ">loaded 4 examples for class: Andrew Lincolen\n",
      ">loaded 5 examples for class: Angella Basset\n",
      ">loaded 5 examples for class: Anna_Hathaway\n",
      ">loaded 5 examples for class: Anthony Hopkins\n",
      ">loaded 5 examples for class: arnold_schwarzenegger\n",
      ">loaded 6 examples for class: Aron Judge\n",
      ">loaded 5 examples for class: Aron Paul\n",
      ">loaded 9 examples for class: Barabara Palvin\n",
      ">loaded 6 examples for class: Barbra Streisand\n",
      ">loaded 7 examples for class: Barry Pepper\n",
      ">loaded 7 examples for class: Bella Hadid\n",
      ">loaded 8 examples for class: bella thorne\n",
      ">loaded 5 examples for class: ben_afflek\n",
      ">loaded 6 examples for class: Beyonce Knowles\n",
      ">loaded 5 examples for class: Buffon\n",
      ">loaded 6 examples for class: De_Niro\n",
      ">loaded 5 examples for class: Donnie Yen\n",
      ">loaded 5 examples for class: dwayne_johnson\n",
      ">loaded 5 examples for class: elton_john\n",
      ">loaded 7 examples for class: Ennio Morricone\n",
      ">loaded 5 examples for class: Fan Bingbing\n",
      ">loaded 5 examples for class: Jackie chan\n",
      ">loaded 5 examples for class: jerry_seinfeld\n",
      ">loaded 5 examples for class: Jet Lee\n",
      ">loaded 4 examples for class: kate_beckinsale\n",
      ">loaded 5 examples for class: keanu_reeves\n",
      ">loaded 4 examples for class: lauren_cohan\n",
      ">loaded 5 examples for class: madonna\n"
     ]
    }
   ],
   "source": [
    "trainX, trainy = load_dataset('datasets/train/')\n",
    "print(trainX.shape, trainy.shape)\n",
    "# load test dataset\n",
    "testX, testy = load_dataset('datasets/validation/')\n",
    "# save arrays to one file in compressed format\n",
    "savez_compressed('cinema_class.npz', trainX, trainy, testX, testy)"
   ]
  },
  {
   "cell_type": "code",
   "execution_count": 6,
   "metadata": {},
   "outputs": [
    {
     "name": "stdout",
     "output_type": "stream",
     "text": [
      ">loaded 156 examples for class: test\n",
      "(156, 160, 160, 3) (156,)\n"
     ]
    }
   ],
   "source": [
    "test_1, ytest_1 = load_dataset('datasets/test/')\n",
    "print(test_1.shape, ytest_1.shape)\n",
    "savez_compressed('test_1.npz', test_1, ytest_1)"
   ]
  },
  {
   "cell_type": "markdown",
   "metadata": {},
   "source": [
    "# Create the embedding for the dataset "
   ]
  },
  {
   "cell_type": "code",
   "execution_count": 7,
   "metadata": {},
   "outputs": [],
   "source": [
    "# get the face embedding for one face\n",
    "def get_embedding(model, face_pixels):\n",
    "    # scale pixel values\n",
    "    face_pixels = face_pixels.astype('float32')\n",
    "    # standardize pixel values across channels (global)\n",
    "    mean, std = face_pixels.mean(), face_pixels.std()\n",
    "    face_pixels = (face_pixels - mean) / std\n",
    "    # transform face into one sample\n",
    "    samples = expand_dims(face_pixels, axis=0)\n",
    "    # make prediction to get embedding\n",
    "    yhat = model.predict(samples)\n",
    "    return yhat[0]"
   ]
  },
  {
   "cell_type": "code",
   "execution_count": 8,
   "metadata": {},
   "outputs": [
    {
     "name": "stdout",
     "output_type": "stream",
     "text": [
      "Loaded:  (455, 160, 160, 3) (455,) (174, 160, 160, 3) (174,)\n",
      "Loaded Model\n"
     ]
    },
    {
     "name": "stderr",
     "output_type": "stream",
     "text": [
      "C:\\Users\\mosta\\Anaconda3\\lib\\site-packages\\keras\\engine\\saving.py:341: UserWarning: No training configuration found in save file: the model was *not* compiled. Compile it manually.\n",
      "  warnings.warn('No training configuration found in save file: '\n"
     ]
    }
   ],
   "source": [
    "# load the face dataset\n",
    "data = load('cinema_class.npz')\n",
    "trainX, trainy, testX, testy = data['arr_0'], data['arr_1'], data['arr_2'], data['arr_3']\n",
    "print('Loaded: ', trainX.shape, trainy.shape, testX.shape, testy.shape)\n",
    "# load the facenet model\n",
    "model = load_model('facenet_keras.h5')\n",
    "print('Loaded Model')"
   ]
  },
  {
   "cell_type": "code",
   "execution_count": 9,
   "metadata": {},
   "outputs": [
    {
     "name": "stdout",
     "output_type": "stream",
     "text": [
      "(455, 128)\n"
     ]
    }
   ],
   "source": [
    "# convert each face in the train set to an embedding\n",
    "newTrainX = list()\n",
    "for face_pixels in trainX:\n",
    "    embedding = get_embedding(model, face_pixels)\n",
    "    newTrainX.append(embedding)\n",
    "newTrainX = asarray(newTrainX)\n",
    "print(newTrainX.shape)"
   ]
  },
  {
   "cell_type": "code",
   "execution_count": 10,
   "metadata": {},
   "outputs": [
    {
     "name": "stdout",
     "output_type": "stream",
     "text": [
      "(174, 128)\n"
     ]
    }
   ],
   "source": [
    "# convert each face in the test set to an embedding\n",
    "newTestX = list()\n",
    "for face_pixels in testX:\n",
    "    embedding = get_embedding(model, face_pixels)\n",
    "    newTestX.append(embedding)\n",
    "newTestX = asarray(newTestX)\n",
    "print(newTestX.shape)"
   ]
  },
  {
   "cell_type": "code",
   "execution_count": 11,
   "metadata": {},
   "outputs": [],
   "source": [
    "# save arrays to one file in compressed format\n",
    "savez_compressed('cinema_class_embeddings.npz', newTrainX, trainy, newTestX, testy)"
   ]
  },
  {
   "cell_type": "code",
   "execution_count": 12,
   "metadata": {},
   "outputs": [
    {
     "name": "stdout",
     "output_type": "stream",
     "text": [
      "Loaded:  (156, 160, 160, 3) (156,)\n"
     ]
    }
   ],
   "source": [
    "# load the face dataset\n",
    "data = load('test_1.npz')\n",
    "test_1, ytest_1 = data['arr_0'], data['arr_1']\n",
    "print('Loaded: ', test_1.shape, ytest_1.shape)"
   ]
  },
  {
   "cell_type": "code",
   "execution_count": 13,
   "metadata": {},
   "outputs": [
    {
     "name": "stdout",
     "output_type": "stream",
     "text": [
      "(156, 128)\n"
     ]
    }
   ],
   "source": [
    "i_test = list()\n",
    "for face_pixels in test_1:\n",
    "    embedding = get_embedding(model, face_pixels)\n",
    "    i_test.append(embedding)\n",
    "newTrainX = asarray(i_test)\n",
    "print(newTrainX.shape)"
   ]
  },
  {
   "cell_type": "code",
   "execution_count": 14,
   "metadata": {},
   "outputs": [],
   "source": [
    "savez_compressed('test_1_embeddings.npz', i_test, ytest_1)"
   ]
  },
  {
   "cell_type": "markdown",
   "metadata": {},
   "source": [
    "# Train the model "
   ]
  },
  {
   "cell_type": "code",
   "execution_count": 15,
   "metadata": {},
   "outputs": [
    {
     "name": "stdout",
     "output_type": "stream",
     "text": [
      "Dataset: train=455, test=174\n"
     ]
    }
   ],
   "source": [
    "# load dataset\n",
    "data = load('cinema_class_embeddings.npz')\n",
    "trainX, trainy, testX, testy = data['arr_0'], data['arr_1'], data['arr_2'], data['arr_3']\n",
    "print('Dataset: train=%d, test=%d' % (trainX.shape[0], testX.shape[0]))\n",
    "# normalize input vectors"
   ]
  },
  {
   "cell_type": "code",
   "execution_count": 16,
   "metadata": {},
   "outputs": [],
   "source": [
    "# normalize input vectors\n",
    "in_encoder = Normalizer(norm='l2')\n",
    "trainX = in_encoder.transform(trainX)\n",
    "testX = in_encoder.transform(testX)"
   ]
  },
  {
   "cell_type": "code",
   "execution_count": 17,
   "metadata": {},
   "outputs": [],
   "source": [
    "# label encode targets\n",
    "out_encoder = LabelEncoder()\n",
    "out_encoder.fit(trainy)\n",
    "trainy = out_encoder.transform(trainy)\n",
    "testy = out_encoder.transform(testy)"
   ]
  },
  {
   "cell_type": "code",
   "execution_count": 18,
   "metadata": {},
   "outputs": [],
   "source": [
    "# fit model\n",
    "\n",
    "svc = SVC(kernel='rbf',gamma=0.7,probability=True).fit(trainX, trainy)\n",
    "yhat_train = svc.predict(trainX)\n",
    "yhat_test = svc.predict(testX)\n",
    "yhat_prob = svc.predict_proba(testX)"
   ]
  },
  {
   "cell_type": "code",
   "execution_count": 42,
   "metadata": {},
   "outputs": [
    {
     "name": "stdout",
     "output_type": "stream",
     "text": [
      "0.9942528735632183\n"
     ]
    }
   ],
   "source": [
    "score_test = accuracy_score(testy, yhat_test)\n",
    "print( score_test)"
   ]
  },
  {
   "cell_type": "code",
   "execution_count": 20,
   "metadata": {},
   "outputs": [],
   "source": [
    "\n",
    "filename = 'finalized_model.pkl'\n",
    "pickle.dump(svc, open(filename, 'wb'))"
   ]
  },
  {
   "cell_type": "markdown",
   "metadata": {},
   "source": [
    "# Calculate FFR, FAR and EER"
   ]
  },
  {
   "cell_type": "code",
   "execution_count": 21,
   "metadata": {},
   "outputs": [
    {
     "name": "stdout",
     "output_type": "stream",
     "text": [
      "(174, 160, 160, 3)\n",
      "(156, 160, 160, 3)\n"
     ]
    }
   ],
   "source": [
    "# Load the test dataset for Both original and imposter \n",
    "data_gen = load('cinema_class.npz')\n",
    "data_imposter= load('test_1.npz')\n",
    "testX_imposter_faces = data_imposter['arr_0']\n",
    "test_X_gen_faces = data_gen['arr_2']\n",
    "print(test_X_gen_faces.shape)\n",
    "print(testX_imposter_faces.shape)"
   ]
  },
  {
   "cell_type": "code",
   "execution_count": 22,
   "metadata": {},
   "outputs": [
    {
     "name": "stdout",
     "output_type": "stream",
     "text": [
      "(174, 128)\n",
      "(156, 128)\n"
     ]
    }
   ],
   "source": [
    "# load face embeddings\n",
    "data_imposter = load(\"test_1_embeddings.npz\")\n",
    "data_gen = load('cinema_class_embeddings.npz')\n",
    "trainX_gen, trainy_gen, testX_gen, testy_gen = data_gen['arr_0'], data_gen['arr_1'],data_gen['arr_2'],data_gen['arr_3']\n",
    "testX_imposter, testy_imposter = data_imposter['arr_0'], data_imposter['arr_1']\n",
    "print(testX_gen.shape)\n",
    "print(testX_imposter.shape)"
   ]
  },
  {
   "cell_type": "code",
   "execution_count": 23,
   "metadata": {},
   "outputs": [],
   "source": [
    "# normalize input vectors\n",
    "in_encoder = Normalizer(norm='l2')\n",
    "trainX_gen = in_encoder.transform(trainX_gen)\n",
    "testX_imposter = in_encoder.transform(testX_imposter)\n",
    "testX_gen = in_encoder.transform(testX_gen)"
   ]
  },
  {
   "cell_type": "code",
   "execution_count": 24,
   "metadata": {},
   "outputs": [
    {
     "data": {
      "text/plain": [
       "SVC(C=1.0, cache_size=200, class_weight=None, coef0=0.0,\n",
       "    decision_function_shape='ovr', degree=3, gamma=0.7, kernel='rbf',\n",
       "    max_iter=-1, probability=True, random_state=None, shrinking=True, tol=0.001,\n",
       "    verbose=False)"
      ]
     },
     "execution_count": 24,
     "metadata": {},
     "output_type": "execute_result"
    }
   ],
   "source": [
    "# label encode targets\n",
    "out_encoder = LabelEncoder()\n",
    "out_encoder.fit(trainy_gen)\n",
    "trainy_gen = out_encoder.transform(trainy_gen)\n",
    "testy_gen=out_encoder.transform(testy_gen)\n",
    "# fit model\n",
    "model = pickle.load(open('finalized_model.pkl', 'rb'))\n",
    "model.fit(trainX_gen, trainy_gen)"
   ]
  },
  {
   "cell_type": "code",
   "execution_count": 25,
   "metadata": {},
   "outputs": [],
   "source": [
    "# test model on imposter faces \n",
    "# a is a list where we will calculate the probability of the false accptance rate FAR\n",
    "# the model will predect the face and then check the matching probablity and add it to the a list  \n",
    "\n",
    "a = []\n",
    "for i in range(100):\n",
    "        random_face_pixels = testX_imposter_faces[i]\n",
    "        random_face_emb = testX_imposter[i]\n",
    "        random_face_class = testy_imposter[i]\n",
    "        samples = expand_dims(random_face_emb, axis=0)\n",
    "        yhat_class = model.predict(samples)\n",
    "        yhat_prob = model.predict_proba(samples)\n",
    "        class_index = yhat_class[0]\n",
    "        class_probability = yhat_prob[0,class_index] * 100\n",
    "        intp = int((class_probability))\n",
    "        #print(f'Predicted: {intp} %')\n",
    "        a.append(intp)"
   ]
  },
  {
   "cell_type": "code",
   "execution_count": 26,
   "metadata": {},
   "outputs": [
    {
     "name": "stdout",
     "output_type": "stream",
     "text": [
      "FAR:  [100 100 100 100  99  89  70  50  37  25  13   8   4   3   3   2   1   0\n",
      "   0   0   0   0   0   0   0   0   0   0   0   0   0   0   0   0   0   0\n",
      "   0   0   0   0   0   0   0   0   0   0   0   0   0   0   0   0   0   0\n",
      "   0   0   0   0   0   0   0   0   0   0   0   0   0   0   0   0   0   0\n",
      "   0   0   0   0   0   0   0   0   0   0   0   0   0   0   0   0   0   0\n",
      "   0   0   0   0   0   0   0   0   0   0]\n",
      "-----------------------------------------------------------\n"
     ]
    }
   ],
   "source": [
    "# far is a list that we will save the False accaptance rate in each threshold \n",
    " # threshold is the list of thresold and it will go from 0% to 100%       \n",
    "far = []\n",
    "threshold = []\n",
    "for i in range(100):\n",
    "        num = 0\n",
    "\n",
    "        for x in a:\n",
    "                if x>i:\n",
    "                        num+=1\n",
    "        #print(i,num)\n",
    "        far.append(num)\n",
    "        threshold.append(i)\n",
    "\n",
    "far = np.array(far)\n",
    "print('FAR: ',far)\n",
    "print('-----------------------------------------------------------')\n"
   ]
  },
  {
   "cell_type": "code",
   "execution_count": 27,
   "metadata": {},
   "outputs": [
    {
     "name": "stdout",
     "output_type": "stream",
     "text": [
      "[39, 42, 29, 20, 38, 25, 39, 11, 20, 41, 27, 31, 39, 18, 25, 16, 24, 39, 25, 38, 45, 21, 35, 29, 38, 27, 34, 21, 29, 19, 28, 17, 27, 18, 33, 26, 45, 42, 46, 35, 18, 26, 44, 35, 36, 23, 30, 34, 35, 54, 48, 27, 50, 42, 36, 33, 29, 41, 31, 27, 21, 33, 34, 48, 44, 39, 39, 46, 36, 47, 47, 46, 45, 43, 38, 52, 38, 47, 51, 44, 45, 35, 32, 62, 56, 55, 67, 55, 65, 66, 54, 49, 59, 42, 24, 49, 29, 40, 39]\n"
     ]
    }
   ],
   "source": [
    "b = []\n",
    "for i in range(100):\n",
    "        random_face_pixels = test_X_gen_faces[i]\n",
    "        random_face_emb = testX_gen[i]\n",
    "        random_face_class = testy_gen[i]\n",
    "        face_name = out_encoder.inverse_transform([random_face_class])\n",
    "        # prediction for the face\n",
    "        samples = expand_dims(random_face_emb, axis=0)\n",
    "        yhat_class = model.predict(samples)\n",
    "        yhat_prob = model.predict_proba(samples)\n",
    "        # get name\n",
    "        class_index = yhat_class[0]\n",
    "        class_probability = yhat_prob[0,class_index] * 100\n",
    "        predict_threshold = out_encoder.inverse_transform(yhat_class)\n",
    "        if predict_threshold[0]==face_name[0]:\n",
    "                intp = int((class_probability))\n",
    "                #print(f'Predicted: {intp} %')\n",
    "                b.append(intp)\n",
    "print(b)"
   ]
  },
  {
   "cell_type": "code",
   "execution_count": 28,
   "metadata": {},
   "outputs": [
    {
     "name": "stdout",
     "output_type": "stream",
     "text": [
      "FRR:  [ 0  0  0  0  0  0  0  0  0  0  0  0  1  1  1  1  1  2  3  6  7  9 12 12\n",
      " 13 15 18 20 25 26 31 32 34 35 38 41 46 49 49 54 61 62 64 68 69 72 76 79\n",
      " 82 84 86 87 88 89 89 91 93 94 94 94 95 95 95 96 96 96 97 98 99 99 99 99\n",
      " 99 99 99 99 99 99 99 99 99 99 99 99 99 99 99 99 99 99 99 99 99 99 99 99\n",
      " 99 99 99 99]\n",
      "-----------------------------------------------------------\n"
     ]
    }
   ],
   "source": [
    "frr = []\n",
    "for i in range(100):\n",
    "        num = 0\n",
    "\n",
    "        for x in b:\n",
    "                if x<i:\n",
    "                        num+=1\n",
    "        #print(i,num)\n",
    "        frr.append(num)\n",
    "\n",
    "\n",
    "frr = np.array(frr)\n",
    "print('FRR: ',frr)\n",
    "print('-----------------------------------------------------------')\n"
   ]
  },
  {
   "cell_type": "code",
   "execution_count": 29,
   "metadata": {},
   "outputs": [
    {
     "name": "stdout",
     "output_type": "stream",
     "text": [
      "EER =  16\n"
     ]
    }
   ],
   "source": [
    "# calculate the EER\n",
    "for i  in range(100):\n",
    "        a = frr[i]\n",
    "        b = far[i]\n",
    "        if a == b:\n",
    "                EER= a\n",
    "                print('EER = ',i)\n"
   ]
  },
  {
   "cell_type": "code",
   "execution_count": 30,
   "metadata": {},
   "outputs": [
    {
     "data": {
      "image/png": "[encoded data removed]",
      "text/plain": [
       "<Figure size 432x288 with 1 Axes>"
      ]
     },
     "metadata": {
      "needs_background": "light"
     },
     "output_type": "display_data"
    }
   ],
   "source": [
    "plt.plot(threshold,frr,'--b',far,'--r')\n",
    "plt.plot(15,EER,'ro') \n",
    "\n",
    "plt.xlabel('threshold')\n",
    "plt.title('FAR,FRR and EER')\n",
    "plt.axis([0, 100, 0, 100])\n",
    "plt.show()"
   ]
  },
  {
   "cell_type": "code",
   "execution_count": 31,
   "metadata": {},
   "outputs": [],
   "source": [
    "threshold = np.array(threshold)"
   ]
  },
  {
   "cell_type": "code",
   "execution_count": 32,
   "metadata": {},
   "outputs": [
    {
     "data": {
      "image/png": "[encoded data removed]",
      "text/plain": [
       "<Figure size 432x288 with 1 Axes>"
      ]
     },
     "metadata": {
      "needs_background": "light"
     },
     "output_type": "display_data"
    }
   ],
   "source": [
    "plt.plot(threshold,frr,'--b')\n",
    "plt.xlabel('threshold')\n",
    "plt.title('FRR')\n",
    "plt.axis([0, 100, 0, 100])\n",
    "plt.show()\n"
   ]
  },
  {
   "cell_type": "code",
   "execution_count": 33,
   "metadata": {},
   "outputs": [
    {
     "data": {
      "image/png": "[encoded data removed]",
      "text/plain": [
       "<Figure size 432x288 with 1 Axes>"
      ]
     },
     "metadata": {
      "needs_background": "light"
     },
     "output_type": "display_data"
    }
   ],
   "source": [
    "plt.plot(threshold,far,'--r')\n",
    "plt.xlabel('threshold')\n",
    "plt.title('FAR')\n",
    "\n",
    "plt.axis([5, 20, 0, 100])\n",
    "plt.show()"
   ]
  },
  {
   "cell_type": "code",
   "execution_count": 34,
   "metadata": {},
   "outputs": [
    {
     "data": {
      "image/png": "[encoded data removed]",
      "text/plain": [
       "<Figure size 432x288 with 1 Axes>"
      ]
     },
     "metadata": {
      "needs_background": "light"
     },
     "output_type": "display_data"
    }
   ],
   "source": [
    "fig, ax = plt.subplots()\n",
    "\n",
    "ax.plot(threshold, far, 'r--', label='FAR')\n",
    "ax.plot(threshold, frr, 'g--', label='FRR')\n",
    "plt.xlabel('Threshold')\n",
    "plt.plot(15,EER,'ro', label='EER') \n",
    "\n",
    "\n",
    "legend = ax.legend(loc='upper center', shadow=True, fontsize='x-large')\n",
    "\n",
    "# Put a nicer background color on the legend.\n",
    "legend.get_frame().set_facecolor('C0')\n",
    "\n",
    "plt.show()"
   ]
  },
  {
   "cell_type": "code",
   "execution_count": 35,
   "metadata": {},
   "outputs": [
    {
     "data": {
      "application/javascript": [
       "if (window.IPython && IPython.notebook.kernel) IPython.notebook.kernel.execute('jovian.utils.jupyter.get_notebook_name_saved = lambda: \"' + IPython.notebook.notebook_name + '\"')"
      ],
      "text/plain": [
       "<IPython.core.display.Javascript object>"
      ]
     },
     "metadata": {},
     "output_type": "display_data"
    },
    {
     "name": "stdout",
     "output_type": "stream",
     "text": [
      "[jovian] Update Available: 0.2.11 --> 0.2.16\n",
      "[jovian] Run `!pip install jovian --upgrade` to upgrade\n"
     ]
    }
   ],
   "source": [
    "import jovian"
   ]
  },
  {
   "cell_type": "code",
   "execution_count": 38,
   "metadata": {},
   "outputs": [
    {
     "name": "stdout",
     "output_type": "stream",
     "text": [
      "Collecting jovian\n",
      "  Downloading jovian-0.2.16-py2.py3-none-any.whl (63 kB)\n",
      "Requirement already satisfied, skipping upgrade: pyyaml in c:\\users\\mosta\\anaconda3\\lib\\site-packages (from jovian) (5.3)\n",
      "Requirement already satisfied, skipping upgrade: click in c:\\users\\mosta\\anaconda3\\lib\\site-packages (from jovian) (7.0)\n",
      "Requirement already satisfied, skipping upgrade: uuid in c:\\users\\mosta\\anaconda3\\lib\\site-packages (from jovian) (1.30)\n",
      "Requirement already satisfied, skipping upgrade: requests in c:\\users\\mosta\\anaconda3\\lib\\site-packages (from jovian) (2.22.0)\n",
      "Requirement already satisfied, skipping upgrade: urllib3!=1.25.0,!=1.25.1,<1.26,>=1.21.1 in c:\\users\\mosta\\anaconda3\\lib\\site-packages (from requests->jovian) (1.25.8)\n",
      "Requirement already satisfied, skipping upgrade: idna<2.9,>=2.5 in c:\\users\\mosta\\anaconda3\\lib\\site-packages (from requests->jovian) (2.8)\n",
      "Requirement already satisfied, skipping upgrade: certifi>=2017.4.17 in c:\\users\\mosta\\anaconda3\\lib\\site-packages (from requests->jovian) (2019.11.28)\n",
      "Requirement already satisfied, skipping upgrade: chardet<3.1.0,>=3.0.2 in c:\\users\\mosta\\anaconda3\\lib\\site-packages (from requests->jovian) (3.0.4)\n",
      "Installing collected packages: jovian\n",
      "  Attempting uninstall: jovian\n",
      "    Found existing installation: jovian 0.2.11\n",
      "    Uninstalling jovian-0.2.11:\n",
      "      Successfully uninstalled jovian-0.2.11\n",
      "Successfully installed jovian-0.2.16\n"
     ]
    }
   ],
   "source": [
    "!pip install jovian --upgrade"
   ]
  },
  {
   "cell_type": "code",
   "execution_count": 41,
   "metadata": {},
   "outputs": [
    {
     "data": {
      "application/javascript": [
       "window.require && require([\"base/js/namespace\"],function(Jupyter){Jupyter.notebook.save_checkpoint()})"
      ],
      "text/plain": [
       "<IPython.core.display.Javascript object>"
      ]
     },
     "metadata": {},
     "output_type": "display_data"
    },
    {
     "name": "stdout",
     "output_type": "stream",
     "text": [
      "[jovian] Attempting to save notebook..\n",
      "[jovian] Updating notebook \"mustafaazzurr/face-recognition-farfrr-and-eer\" on https://jovian.ml/\n",
      "[jovian] Uploading notebook..\n",
      "[jovian] Capturing environment..\n",
      "[jovian] Committed successfully! https://jovian.ml/mustafaazzurr/face-recognition-farfrr-and-eer\n"
     ]
    }
   ],
   "source": [
    "jovian.commit()"
   ]
  },
  {
   "cell_type": "code",
   "execution_count": null,
   "metadata": {},
   "outputs": [],
   "source": []
  }
 ],
 "metadata": {
  "language_info": {
   "codemirror_mode": {
    "name": "ipython",
    "version": 3
   },
   "file_extension": ".py",
   "mimetype": "text/x-python",
   "name": "python",
   "nbconvert_exporter": "python",
   "pygments_lexer": "ipython3",
   "version": "3.7.6"
  }
 },
 "nbformat": 4,
 "nbformat_minor": 4
}